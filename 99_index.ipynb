{
 "cells": [
  {
   "cell_type": "markdown",
   "metadata": {},
   "source": [
    "# slicer\n",
    "\n",
    "> Slice images/labels with overlapping and in different scales Predict (with fastai) and merge the sliced images to full size"
   ]
  },
  {
   "cell_type": "markdown",
   "metadata": {},
   "source": [
    "## Feature"
   ]
  },
  {
   "cell_type": "markdown",
   "metadata": {},
   "source": [
    "- Preprocess of high resolution imagery and label data for use in Semantic Segmentation tasks (Deep Learning)\n",
    "- Increases amount of trainingdata by generating different scales and overlappings for images and labels\n",
    "- Multi stage interpolation (Nearest Neighbor + Bicubic combined) for image data\n",
    "- Nearest Neighbor interpolation for label data\n",
    "- More than half empty slices will be ignored / It is possilbe to slice a dismembered Mosaik!\n",
    "- Add padding (to the right and bottom) to your high resolution images\n",
    "- Do fastai predictions and merge the images to full size"
   ]
  },
  {
   "cell_type": "markdown",
   "metadata": {},
   "source": [
    "Docs under https://abalone1.github.io/slicer/"
   ]
  }
 ],
 "metadata": {
  "kernelspec": {
   "display_name": "Python 3",
   "language": "python",
   "name": "python3"
  }
 },
 "nbformat": 4,
 "nbformat_minor": 2
}
